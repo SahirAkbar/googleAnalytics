{
 "cells": [
  {
   "cell_type": "code",
   "execution_count": null,
   "metadata": {},
   "outputs": [],
   "source": [
    "# Import necessary libraries\n",
    "from pyspark.sql import SparkSession\n",
    "\n",
    "# Create a Spark session\n",
    "spark = SparkSession.builder.appName(\"GenesysETL\").getOrCreate()\n",
    "\n",
    "# Replace 'jdbc_url', 'user', 'password' with your Genesys database connection details\n",
    "genesys_df = spark.read.format(\"jdbc\").option(\"url\", \"jdbc_url\").option(\"dbtable\", \"genesis.table_name\").option(\"user\", \"user\").option(\"password\", \"password\").load()"
   ]
  },
  {
   "cell_type": "code",
   "execution_count": null,
   "metadata": {},
   "outputs": [],
   "source": [
    "# Use Databricks SQL syntax to read the configuration table from the Databricks catalog\n",
    "config_df = spark.sql(\"SELECT * FROM administrative.bronze.table_configuration WHERE schema_name = 'genesys'\")"
   ]
  },
  {
   "cell_type": "code",
   "execution_count": null,
   "metadata": {},
   "outputs": [],
   "source": [
    "# Filter the configuration DataFrame where active field is true\n",
    "active_tables_df = config_df.filter(config_df[\"active\"] == True)\n"
   ]
  },
  {
   "cell_type": "code",
   "execution_count": null,
   "metadata": {},
   "outputs": [],
   "source": [
    "# Iterate over the active tables and save them to bronze.genesys.table_name\n",
    "for row in active_tables_df.collect():\n",
    "    table_name = row[\"table_name\"]\n",
    "    genesys_table_df = genesys_df.filter(genesys_df[\"table_name\"] == table_name)\n",
    "    genesys_table_df.write.format(\"parquet\").mode(\"overwrite\").saveAsTable(\"bronze.genesys.\" + table_name)\n"
   ]
  }
 ],
 "metadata": {
  "kernelspec": {
   "display_name": "Python 3",
   "language": "python",
   "name": "python3"
  },
  "language_info": {
   "name": "python",
   "version": "3.11.5"
  }
 },
 "nbformat": 4,
 "nbformat_minor": 2
}
